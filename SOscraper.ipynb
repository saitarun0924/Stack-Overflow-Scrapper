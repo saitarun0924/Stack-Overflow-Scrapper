{
 "cells": [
  {
   "cell_type": "code",
   "execution_count": 1,
   "metadata": {},
   "outputs": [
    {
     "name": "stdout",
     "output_type": "stream",
     "text": [
      "         Language                                              Links Questions\n",
      "0      javascript  https://stackoverflow.com//questions/tagged/ja...   2284009\n",
      "1          python  https://stackoverflow.com//questions/tagged/py...   1814484\n",
      "2            java   https://stackoverflow.com//questions/tagged/java   1805546\n",
      "3              c#   https://stackoverflow.com//questions/tagged/c%23    366397\n",
      "4             php    https://stackoverflow.com//questions/tagged/php   1417818\n",
      "5         android  https://stackoverflow.com//questions/tagged/an...   1352911\n",
      "6            html   https://stackoverflow.com//questions/tagged/html   1098196\n",
      "7          jquery  https://stackoverflow.com//questions/tagged/jq...   1022040\n",
      "8             c++  https://stackoverflow.com//questions/tagged/c%...    740898\n",
      "9             css    https://stackoverflow.com//questions/tagged/css    736092\n",
      "10            ios    https://stackoverflow.com//questions/tagged/ios    662236\n",
      "11          mysql  https://stackoverflow.com//questions/tagged/mysql    635223\n",
      "12            sql    https://stackoverflow.com//questions/tagged/sql    607603\n",
      "13              r      https://stackoverflow.com//questions/tagged/r    422660\n",
      "14        node.js  https://stackoverflow.com//questions/tagged/no...    405264\n",
      "15         arrays  https://stackoverflow.com//questions/tagged/ar...    378452\n",
      "16              c      https://stackoverflow.com//questions/tagged/c    366397\n",
      "17        asp.net  https://stackoverflow.com//questions/tagged/as...    364989\n",
      "18        reactjs  https://stackoverflow.com//questions/tagged/re...    339427\n",
      "19  ruby-on-rails  https://stackoverflow.com//questions/tagged/ru...    328668\n",
      "20           json   https://stackoverflow.com//questions/tagged/json    328141\n",
      "21           .net   https://stackoverflow.com//questions/tagged/.net    311779\n",
      "22     sql-server  https://stackoverflow.com//questions/tagged/sq...    310207\n",
      "23          swift  https://stackoverflow.com//questions/tagged/swift    303738\n",
      "24     python-3.x  https://stackoverflow.com//questions/tagged/py...    297026\n",
      "25    objective-c  https://stackoverflow.com//questions/tagged/ob...    291962\n",
      "26         django  https://stackoverflow.com//questions/tagged/dj...    277018\n",
      "27        angular  https://stackoverflow.com//questions/tagged/an...    264146\n",
      "28      angularjs  https://stackoverflow.com//questions/tagged/an...    262265\n",
      "29          excel  https://stackoverflow.com//questions/tagged/excel    252826\n",
      "30          regex  https://stackoverflow.com//questions/tagged/regex    244837\n",
      "31           ruby   https://stackoverflow.com//questions/tagged/ruby    221349\n",
      "32         iphone  https://stackoverflow.com//questions/tagged/ip...    221215\n",
      "33         pandas  https://stackoverflow.com//questions/tagged/pa...    218969\n",
      "34           ajax   https://stackoverflow.com//questions/tagged/ajax    217657\n",
      "35          linux  https://stackoverflow.com//questions/tagged/linux    209210\n"
     ]
    },
    {
     "data": {
      "image/png": "[encoded data removed]",
      "text/plain": [
       "<Figure size 432x288 with 1 Axes>"
      ]
     },
     "metadata": {},
     "output_type": "display_data"
    }
   ],
   "source": [
    "import requests\n",
    "from bs4 import BeautifulSoup as bs\n",
    "import pandas as pd\n",
    "import matplotlib.pyplot as plt\n",
    "import matplotlib.style as style\n",
    "\n",
    "df = {'Language':[],'Links':[], 'Questions': []}\n",
    "\n",
    "\n",
    "def n_ques(link):\n",
    "    response = requests.get(link)\n",
    "    content = response.content\n",
    "    soup = bs(content,'html.parser')\n",
    "    q = soup.find('div',class_='fs-body3 flex--item fl1 mr12 sm:mr0 sm:mb12')\n",
    "    #print(q.text)\n",
    "    q = (q.text).split()\n",
    "    q = q[0]\n",
    "    q = q.replace(',', '')\n",
    "    q = int(q)\n",
    "    df['Questions'].append(q)\n",
    "    \n",
    "def tagged(url):\n",
    "    #print(url)\n",
    "    response = requests.get(url)\n",
    "    content = response.content\n",
    "    soup = bs(content,'html.parser')\n",
    "     \n",
    "    for tag in soup.find_all('a',attrs={'class':'post-tag'}):\n",
    "        df['Language'].append(tag.text)\n",
    "        null = 'https://stackoverflow.com/'\n",
    "        link = tag. get('href')\n",
    "        link = null + link\n",
    "        #print(link)\n",
    "        df['Links'].append(link)\n",
    "        n_ques(link)\n",
    "\n",
    "# there are around 1828 pages related to this Tags, to scrape all those pages we need a lot of time and computation power, so for understanding purpose this program will scrape only the first page of tags\n",
    "for i in range(1,2):\n",
    "    tagged('http://stackoverflow.com/tags?page='+str(i)+'&tab=popular')\n",
    "\n",
    "\"\"\"\n",
    "# to scrape all 1828 pages run this following code, it \n",
    "for i in range(1,1829):\n",
    "    extract_tagged('http://stackoverflow.com/tags?page='+str(i)+'&tab=popular')\n",
    "\"\"\"\n",
    "\n",
    "#print(df)\n",
    "df = pd.DataFrame.from_dict(df, orient='index')\n",
    "df = df.transpose()\n",
    "print(df)\n",
    "\n",
    "style.use('ggplot')\n",
    "\n",
    "df.sort_values(by=['Questions'],ascending=False).head(10).set_index('Language').plot(kind='bar')\n",
    "plt.show()"
   ]
  },
  {
   "cell_type": "code",
   "execution_count": null,
   "metadata": {},
   "outputs": [],
   "source": []
  }
 ],
 "metadata": {
  "kernelspec": {
   "display_name": "Python 3",
   "language": "python",
   "name": "python3"
  },
  "language_info": {
   "codemirror_mode": {
    "name": "ipython",
    "version": 3
   },
   "file_extension": ".py",
   "mimetype": "text/x-python",
   "name": "python",
   "nbconvert_exporter": "python",
   "pygments_lexer": "ipython3",
   "version": "3.8.5"
  }
 },
 "nbformat": 4,
 "nbformat_minor": 4
}
